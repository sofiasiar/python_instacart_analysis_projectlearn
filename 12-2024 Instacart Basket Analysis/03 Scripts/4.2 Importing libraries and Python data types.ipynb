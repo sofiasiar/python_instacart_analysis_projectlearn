{
 "cells": [
  {
   "cell_type": "markdown",
   "id": "cc48f469-2e9a-4d5c-8e0a-32929a54a402",
   "metadata": {},
   "source": [
    "#01. Importing libraries"
   ]
  },
  {
   "cell_type": "markdown",
   "id": "097e5460-e6f9-400f-a086-bd34c228e103",
   "metadata": {},
   "source": [
    "## Import libraries\n",
    "import pandas as pd\n",
    "import numpy as np\n",
    "import os"
   ]
  },
  {
   "cell_type": "markdown",
   "id": "f10ba1f9-fa63-4a7f-a88e-b768b2fdb785",
   "metadata": {},
   "source": [
    "# 02.Data Types"
   ]
  },
  {
   "cell_type": "code",
   "execution_count": 67,
   "id": "cc77a714-96a5-48a0-9ac5-8f4a63dc3ebc",
   "metadata": {},
   "outputs": [],
   "source": [
    "x=25"
   ]
  },
  {
   "cell_type": "code",
   "execution_count": 69,
   "id": "d30951f6-f9a0-4b75-8f14-7f61477afde5",
   "metadata": {},
   "outputs": [],
   "source": [
    "y=75"
   ]
  },
  {
   "cell_type": "code",
   "execution_count": 71,
   "id": "eb14b0c9-f9d4-411b-b515-6fac95316bcf",
   "metadata": {},
   "outputs": [
    {
     "data": {
      "text/plain": [
       "100"
      ]
     },
     "execution_count": 71,
     "metadata": {},
     "output_type": "execute_result"
    }
   ],
   "source": [
    "x*4"
   ]
  },
  {
   "cell_type": "code",
   "execution_count": 73,
   "id": "aa7251da-e89d-4ba3-9ad9-9dc80669cfc9",
   "metadata": {},
   "outputs": [
    {
     "data": {
      "text/plain": [
       "100"
      ]
     },
     "execution_count": 73,
     "metadata": {},
     "output_type": "execute_result"
    }
   ],
   "source": [
    "x+y"
   ]
  },
  {
   "cell_type": "code",
   "execution_count": 75,
   "id": "8b94343d-e953-4775-a287-2a4700586c6c",
   "metadata": {},
   "outputs": [
    {
     "data": {
      "text/plain": [
       "100"
      ]
     },
     "execution_count": 75,
     "metadata": {},
     "output_type": "execute_result"
    }
   ],
   "source": [
    "x*2+y-25"
   ]
  },
  {
   "cell_type": "code",
   "execution_count": 77,
   "id": "13054707-34a2-4148-a708-a656809614f9",
   "metadata": {},
   "outputs": [],
   "source": [
    "w=2.5"
   ]
  },
  {
   "cell_type": "code",
   "execution_count": 121,
   "id": "54bb0098-14cf-4139-a499-58026a1fa60a",
   "metadata": {},
   "outputs": [],
   "source": [
    "q=7.94"
   ]
  },
  {
   "cell_type": "code",
   "execution_count": 123,
   "id": "f864ac3c-9bca-4452-9361-e81beb268f6d",
   "metadata": {},
   "outputs": [
    {
     "data": {
      "text/plain": [
       "0.3148614609571788"
      ]
     },
     "execution_count": 123,
     "metadata": {},
     "output_type": "execute_result"
    }
   ],
   "source": [
    "w/q"
   ]
  },
  {
   "cell_type": "code",
   "execution_count": 125,
   "id": "65e7a249-f9ff-4c22-b43f-c657280b646a",
   "metadata": {},
   "outputs": [],
   "source": [
    "a=\"Good\""
   ]
  },
  {
   "cell_type": "code",
   "execution_count": 129,
   "id": "82ce6414-1058-4a30-b520-57e3cf4c3f5c",
   "metadata": {},
   "outputs": [],
   "source": [
    "s=\"b\""
   ]
  },
  {
   "cell_type": "code",
   "execution_count": 131,
   "id": "526f1f78-013a-469c-a846-4fb20f6c4b3d",
   "metadata": {},
   "outputs": [],
   "source": [
    "d=\"y\""
   ]
  },
  {
   "cell_type": "code",
   "execution_count": 135,
   "id": "99f7a147-ee9f-4160-8873-cc69c547423d",
   "metadata": {},
   "outputs": [],
   "source": [
    "f=\"e\""
   ]
  },
  {
   "cell_type": "code",
   "execution_count": 137,
   "id": "feedfea9-a42e-4733-b318-af8339de059f",
   "metadata": {},
   "outputs": [
    {
     "data": {
      "text/plain": [
       "'Goodbye'"
      ]
     },
     "execution_count": 137,
     "metadata": {},
     "output_type": "execute_result"
    }
   ],
   "source": [
    "a+s+d+f"
   ]
  },
  {
   "cell_type": "code",
   "execution_count": 139,
   "id": "67591c82-a16f-41d5-90eb-42dd0a540f37",
   "metadata": {},
   "outputs": [],
   "source": [
    "g=\"winter\""
   ]
  },
  {
   "cell_type": "code",
   "execution_count": 141,
   "id": "c09f5c90-5f1c-42ef-a477-bb4511634e5d",
   "metadata": {},
   "outputs": [],
   "source": [
    "h=\"hello\""
   ]
  },
  {
   "cell_type": "code",
   "execution_count": 145,
   "id": "fce0dd73-75d4-4635-9077-b44a9848c108",
   "metadata": {},
   "outputs": [],
   "source": [
    "j=\"world\""
   ]
  },
  {
   "cell_type": "code",
   "execution_count": 147,
   "id": "f7e6b53a-d09a-41d2-8ada-406ed64996b5",
   "metadata": {},
   "outputs": [],
   "source": [
    "k=\" \" "
   ]
  },
  {
   "cell_type": "code",
   "execution_count": 151,
   "id": "a89cfd5b-a249-4653-88f1-8c1321cfea54",
   "metadata": {},
   "outputs": [
    {
     "data": {
      "text/plain": [
       "'Goodbye winter hello world'"
      ]
     },
     "execution_count": 151,
     "metadata": {},
     "output_type": "execute_result"
    }
   ],
   "source": [
    "a+s+d+f+k+g+k+h+k+j"
   ]
  },
  {
   "cell_type": "code",
   "execution_count": 153,
   "id": "a3f7028a-2c6c-4895-a81b-c0ddf08abc03",
   "metadata": {},
   "outputs": [],
   "source": [
    "l=\"I am\""
   ]
  },
  {
   "cell_type": "code",
   "execution_count": 157,
   "id": "cc6c2d28-776d-47f7-8f78-5e933687497b",
   "metadata": {},
   "outputs": [],
   "source": [
    "z=\"Sofia\""
   ]
  },
  {
   "cell_type": "code",
   "execution_count": 159,
   "id": "2c7f89af-4e23-4541-9699-ede4e78533e6",
   "metadata": {},
   "outputs": [
    {
     "data": {
      "text/plain": [
       "'hello world I am Sofia'"
      ]
     },
     "execution_count": 159,
     "metadata": {},
     "output_type": "execute_result"
    }
   ],
   "source": [
    "h+k+j+k+l+k+z"
   ]
  }
 ],
 "metadata": {
  "kernelspec": {
   "display_name": "Python [conda env:base] *",
   "language": "python",
   "name": "conda-base-py"
  },
  "language_info": {
   "codemirror_mode": {
    "name": "ipython",
    "version": 3
   },
   "file_extension": ".py",
   "mimetype": "text/x-python",
   "name": "python",
   "nbconvert_exporter": "python",
   "pygments_lexer": "ipython3",
   "version": "3.12.7"
  }
 },
 "nbformat": 4,
 "nbformat_minor": 5
}
