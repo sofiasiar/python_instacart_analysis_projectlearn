{
 "cells": [
  {
   "cell_type": "markdown",
   "id": "76fc537d-97ca-4ae1-804b-62f75b6792f7",
   "metadata": {},
   "source": [
    "# Task 4.8"
   ]
  },
  {
   "cell_type": "code",
   "execution_count": 2,
   "id": "dcbb4d14-5b51-405e-899b-e34672bde0dc",
   "metadata": {},
   "outputs": [],
   "source": [
    "# Import libraries\n",
    "import pandas as pd\n",
    "import numpy as np\n",
    "import os"
   ]
  },
  {
   "cell_type": "markdown",
   "id": "358baa0c-b116-412a-91ee-5b7adfc3f2c7",
   "metadata": {},
   "source": [
    "# 1"
   ]
  },
  {
   "cell_type": "code",
   "execution_count": 5,
   "id": "fefc9e98-6cd9-4710-9529-f3d3130baec0",
   "metadata": {},
   "outputs": [],
   "source": [
    "path= r\"C:\\Users\\sosia\\12-2024 Instacart Basket Analysis\""
   ]
  },
  {
   "cell_type": "code",
   "execution_count": 7,
   "id": "eabdd0fc-b771-43d0-a895-8ffdeaaf7b69",
   "metadata": {},
   "outputs": [],
   "source": [
    "ords_prods_merge = pd.read_pickle(r'C:\\Users\\sosia\\12-2024 Instacart Basket Analysis\\02 Data\\Prepared Data\\ords_prods_merge1.pkl')"
   ]
  },
  {
   "cell_type": "markdown",
   "id": "aeef9098-d337-4f32-bcb8-543d06ee169e",
   "metadata": {},
   "source": [
    "# 2"
   ]
  },
  {
   "cell_type": "code",
   "execution_count": 9,
   "id": "fc7a09c9-2641-44a2-be4b-3ac7b776fbb0",
   "metadata": {},
   "outputs": [],
   "source": [
    "# Compute the mean of order_number grouped by department_id for the entire dataframe\n",
    "department_order_means = ords_prods_merge.groupby('department_id')['order_number'].mean()"
   ]
  },
  {
   "cell_type": "code",
   "execution_count": 10,
   "id": "ce8ee2fe-818d-42c2-bd03-9002b8f91506",
   "metadata": {},
   "outputs": [
    {
     "name": "stdout",
     "output_type": "stream",
     "text": [
      "department_id\n",
      "1     14.800024\n",
      "2     17.091743\n",
      "3     17.913544\n",
      "4     17.893092\n",
      "5     15.214270\n",
      "6     15.382135\n",
      "7     17.694027\n",
      "8     16.458105\n",
      "9     15.957363\n",
      "10    20.091818\n",
      "11    16.482026\n",
      "12    15.615061\n",
      "13    16.484023\n",
      "14    17.524632\n",
      "15    15.691875\n",
      "16    18.014071\n",
      "17    16.150593\n",
      "18    19.602850\n",
      "19    17.631340\n",
      "20    17.138607\n",
      "21    21.956893\n",
      "Name: order_number, dtype: float64\n"
     ]
    }
   ],
   "source": [
    "print(department_order_means)"
   ]
  },
  {
   "cell_type": "markdown",
   "id": "61e1e158-e2ef-4ed1-b7e8-62c8b78b966d",
   "metadata": {},
   "source": [
    "# 3"
   ]
  },
  {
   "cell_type": "markdown",
   "id": "c90e2bb5-f477-477c-a457-a60ffc7f1746",
   "metadata": {},
   "source": [
    "# **Key Takeaways**\n",
    "- The full dataset provides a more precise and reliable analysis of customer ordering behavior across departments.\n",
    "- The means are consistent in both outputs"
   ]
  },
  {
   "cell_type": "markdown",
   "id": "2038533b-8ef5-4c95-9164-03779354c93c",
   "metadata": {},
   "source": [
    "# 4"
   ]
  },
  {
   "cell_type": "code",
   "execution_count": 17,
   "id": "21d856dc-a60e-4957-88d4-3bdc3b52dc3b",
   "metadata": {},
   "outputs": [],
   "source": [
    "# Calculate total orders per customer\n",
    "ords_prods_merge['total_orders'] = ords_prods_merge.groupby('user_id')['order_number'].transform('max')"
   ]
  },
  {
   "cell_type": "code",
   "execution_count": 19,
   "id": "6ee0645e-47c6-4e74-bfa4-87e426a33c4a",
   "metadata": {},
   "outputs": [],
   "source": [
    "# Create the loyalty flag\n",
    "ords_prods_merge.loc[ords_prods_merge['total_orders'] > 40, 'loyalty_flag'] = 'Loyal Customer'"
   ]
  },
  {
   "cell_type": "code",
   "execution_count": 21,
   "id": "6032f462-e1e4-4f0a-b193-3b4c296babd3",
   "metadata": {},
   "outputs": [],
   "source": [
    "ords_prods_merge.loc[(ords_prods_merge['total_orders'] > 10) & (ords_prods_merge['total_orders'] <= 40), 'loyalty_flag'] = 'Regular Customer'"
   ]
  },
  {
   "cell_type": "code",
   "execution_count": 23,
   "id": "8dfbe4e7-248d-4e99-a987-6b3d67f7dc0c",
   "metadata": {},
   "outputs": [],
   "source": [
    "ords_prods_merge.loc[ords_prods_merge['total_orders'] <= 10, 'loyalty_flag'] = 'New Customer'"
   ]
  },
  {
   "cell_type": "code",
   "execution_count": 25,
   "id": "6942ef77-0936-49c8-8f91-450f27c3e9e7",
   "metadata": {},
   "outputs": [
    {
     "data": {
      "text/html": [
       "<div>\n",
       "<style scoped>\n",
       "    .dataframe tbody tr th:only-of-type {\n",
       "        vertical-align: middle;\n",
       "    }\n",
       "\n",
       "    .dataframe tbody tr th {\n",
       "        vertical-align: top;\n",
       "    }\n",
       "\n",
       "    .dataframe thead th {\n",
       "        text-align: right;\n",
       "    }\n",
       "</style>\n",
       "<table border=\"1\" class=\"dataframe\">\n",
       "  <thead>\n",
       "    <tr style=\"text-align: right;\">\n",
       "      <th></th>\n",
       "      <th>user_id</th>\n",
       "      <th>total_orders</th>\n",
       "      <th>loyalty_flag</th>\n",
       "    </tr>\n",
       "  </thead>\n",
       "  <tbody>\n",
       "    <tr>\n",
       "      <th>0</th>\n",
       "      <td>1</td>\n",
       "      <td>10</td>\n",
       "      <td>New Customer</td>\n",
       "    </tr>\n",
       "    <tr>\n",
       "      <th>1</th>\n",
       "      <td>1</td>\n",
       "      <td>10</td>\n",
       "      <td>New Customer</td>\n",
       "    </tr>\n",
       "    <tr>\n",
       "      <th>2</th>\n",
       "      <td>1</td>\n",
       "      <td>10</td>\n",
       "      <td>New Customer</td>\n",
       "    </tr>\n",
       "    <tr>\n",
       "      <th>3</th>\n",
       "      <td>1</td>\n",
       "      <td>10</td>\n",
       "      <td>New Customer</td>\n",
       "    </tr>\n",
       "    <tr>\n",
       "      <th>4</th>\n",
       "      <td>1</td>\n",
       "      <td>10</td>\n",
       "      <td>New Customer</td>\n",
       "    </tr>\n",
       "    <tr>\n",
       "      <th>5</th>\n",
       "      <td>1</td>\n",
       "      <td>10</td>\n",
       "      <td>New Customer</td>\n",
       "    </tr>\n",
       "    <tr>\n",
       "      <th>6</th>\n",
       "      <td>1</td>\n",
       "      <td>10</td>\n",
       "      <td>New Customer</td>\n",
       "    </tr>\n",
       "    <tr>\n",
       "      <th>7</th>\n",
       "      <td>1</td>\n",
       "      <td>10</td>\n",
       "      <td>New Customer</td>\n",
       "    </tr>\n",
       "    <tr>\n",
       "      <th>8</th>\n",
       "      <td>1</td>\n",
       "      <td>10</td>\n",
       "      <td>New Customer</td>\n",
       "    </tr>\n",
       "    <tr>\n",
       "      <th>9</th>\n",
       "      <td>1</td>\n",
       "      <td>10</td>\n",
       "      <td>New Customer</td>\n",
       "    </tr>\n",
       "  </tbody>\n",
       "</table>\n",
       "</div>"
      ],
      "text/plain": [
       "   user_id  total_orders  loyalty_flag\n",
       "0        1            10  New Customer\n",
       "1        1            10  New Customer\n",
       "2        1            10  New Customer\n",
       "3        1            10  New Customer\n",
       "4        1            10  New Customer\n",
       "5        1            10  New Customer\n",
       "6        1            10  New Customer\n",
       "7        1            10  New Customer\n",
       "8        1            10  New Customer\n",
       "9        1            10  New Customer"
      ]
     },
     "execution_count": 25,
     "metadata": {},
     "output_type": "execute_result"
    }
   ],
   "source": [
    "# Display results\n",
    "ords_prods_merge[['user_id', 'total_orders', 'loyalty_flag']].head(10)"
   ]
  },
  {
   "cell_type": "markdown",
   "id": "4d0c53f3-bb32-4034-8b01-8371e02b21e6",
   "metadata": {},
   "source": [
    "# 5"
   ]
  },
  {
   "cell_type": "code",
   "execution_count": 28,
   "id": "2fb80355-e8ee-42b3-a7dc-8883682f37f5",
   "metadata": {},
   "outputs": [],
   "source": [
    "# Calculate basic statistics for product prices by loyalty category\n",
    "loyalty_spending = ords_prods_merge.groupby('loyalty_flag')['prices'].describe()"
   ]
  },
  {
   "cell_type": "code",
   "execution_count": 29,
   "id": "c4a87507-5018-420f-93c2-864bf81c7cc9",
   "metadata": {},
   "outputs": [
    {
     "name": "stdout",
     "output_type": "stream",
     "text": [
      "                     count       mean         std  min  25%  50%   75%  \\\n",
      "loyalty_flag                                                             \n",
      "Loyal Customer    322011.0   9.081626  214.982149  1.0  4.2  7.3  11.3   \n",
      "New Customer      195598.0  15.843383  801.060641  1.0  4.2  7.4  11.3   \n",
      "Regular Customer  482391.0  11.139256  291.780563  1.0  4.2  7.4  11.3   \n",
      "\n",
      "                      max  \n",
      "loyalty_flag               \n",
      "Loyal Customer    99999.0  \n",
      "New Customer      99999.0  \n",
      "Regular Customer  99999.0  \n"
     ]
    }
   ],
   "source": [
    "# Display the result\n",
    "print(loyalty_spending)"
   ]
  },
  {
   "cell_type": "code",
   "execution_count": 32,
   "id": "aecb9960-ce86-4aa8-8746-67239790acea",
   "metadata": {},
   "outputs": [],
   "source": [
    "# the only fluctuation is the mean and the count. other aggragation are pretty much similar"
   ]
  },
  {
   "cell_type": "markdown",
   "id": "c4895446-4c61-463a-956f-49f76bdb2c85",
   "metadata": {},
   "source": [
    "# 6"
   ]
  },
  {
   "cell_type": "code",
   "execution_count": 35,
   "id": "1e51cda3-0ab7-4bcd-8559-dfb4ece0574a",
   "metadata": {},
   "outputs": [],
   "source": [
    "# Calculate the mean price of purchases per user\n",
    "user_avg_spending = ords_prods_merge.groupby('user_id')['prices'].mean()"
   ]
  },
  {
   "cell_type": "code",
   "execution_count": 37,
   "id": "8c1f9e7d-6f95-4acf-94ec-6bcc9d2bf233",
   "metadata": {},
   "outputs": [],
   "source": [
    "# Merge the user-level average spending back into the main dataset\n",
    "ords_prods_merge['avg_price_per_user'] = ords_prods_merge.groupby('user_id')['prices'].transform('mean')"
   ]
  },
  {
   "cell_type": "code",
   "execution_count": 39,
   "id": "9b84dc08-2881-4b96-8b25-d4b44f5a429b",
   "metadata": {},
   "outputs": [],
   "source": [
    "# Create the spending flag\n",
    "ords_prods_merge.loc[ords_prods_merge['avg_price_per_user'] < 10, 'spending_flag'] = 'Low spender'"
   ]
  },
  {
   "cell_type": "code",
   "execution_count": 41,
   "id": "2d643fa5-c9f1-4353-b32f-b20841b73c5f",
   "metadata": {},
   "outputs": [],
   "source": [
    "ords_prods_merge.loc[ords_prods_merge['avg_price_per_user'] >= 10, 'spending_flag'] = 'High spender'"
   ]
  },
  {
   "cell_type": "code",
   "execution_count": 43,
   "id": "92fc6196-756a-42d2-bee9-c6f1abfa652a",
   "metadata": {},
   "outputs": [
    {
     "data": {
      "text/plain": [
       "spending_flag\n",
       "Low spender     978614\n",
       "High spender     21386\n",
       "Name: count, dtype: int64"
      ]
     },
     "execution_count": 43,
     "metadata": {},
     "output_type": "execute_result"
    }
   ],
   "source": [
    "# Count users in each spending category\n",
    "ords_prods_merge['spending_flag'].value_counts()"
   ]
  },
  {
   "cell_type": "markdown",
   "id": "e64672a5-2daa-4a4f-80aa-867591202676",
   "metadata": {},
   "source": [
    "# 7"
   ]
  },
  {
   "cell_type": "code",
   "execution_count": 46,
   "id": "bf9bd817-30ae-4ba8-9241-e33287f5bc69",
   "metadata": {},
   "outputs": [],
   "source": [
    "# Calculate the median days since prior order for each user\n",
    "user_median_days = ords_prods_merge.groupby('user_id')['days_since_prior_order'].median()"
   ]
  },
  {
   "cell_type": "code",
   "execution_count": 48,
   "id": "442afff8-1849-4565-a5e0-10692ace7f44",
   "metadata": {},
   "outputs": [],
   "source": [
    "# Create a function to categorize users\n",
    "def categorize_frequency(median_days):\n",
    "    if median_days > 20:\n",
    "        return 'Non-frequent customer'\n",
    "    elif 10 < median_days <= 20:\n",
    "        return 'Regular customer'\n",
    "    else:\n",
    "        return 'Frequent customer'"
   ]
  },
  {
   "cell_type": "code",
   "execution_count": 50,
   "id": "25205d5f-7919-4db0-9e72-0f44b08f46ee",
   "metadata": {},
   "outputs": [],
   "source": [
    "# Apply the function to create the flag column\n",
    "ords_prods_merge['order_frequency_flag'] = ords_prods_merge['user_id'].map(user_median_days).map(categorize_frequency)"
   ]
  },
  {
   "cell_type": "code",
   "execution_count": 51,
   "id": "c6b964a6-5cc5-4d02-8557-9857986e3868",
   "metadata": {},
   "outputs": [
    {
     "data": {
      "text/plain": [
       "order_frequency_flag\n",
       "Frequent customer        664849\n",
       "Regular customer         219649\n",
       "Non-frequent customer    115502\n",
       "Name: count, dtype: int64"
      ]
     },
     "execution_count": 51,
     "metadata": {},
     "output_type": "execute_result"
    }
   ],
   "source": [
    "# Check frequency flags\n",
    "ords_prods_merge['order_frequency_flag'].value_counts(dropna = False)"
   ]
  },
  {
   "cell_type": "markdown",
   "id": "c8b337ad-8a4a-4371-851d-852999f60fe8",
   "metadata": {},
   "source": [
    "# 8"
   ]
  },
  {
   "cell_type": "code",
   "execution_count": 55,
   "id": "5199897d-5e1a-4548-922b-6d438a6b2acb",
   "metadata": {},
   "outputs": [],
   "source": [
    "# Export as pkl\n",
    "ords_prods_merge.to_pickle(os.path.join(path, '02 Data','Prepared Data', 'ords_prods_merge48.pkl'))"
   ]
  }
 ],
 "metadata": {
  "kernelspec": {
   "display_name": "Python [conda env:base] *",
   "language": "python",
   "name": "conda-base-py"
  },
  "language_info": {
   "codemirror_mode": {
    "name": "ipython",
    "version": 3
   },
   "file_extension": ".py",
   "mimetype": "text/x-python",
   "name": "python",
   "nbconvert_exporter": "python",
   "pygments_lexer": "ipython3",
   "version": "3.12.7"
  }
 },
 "nbformat": 4,
 "nbformat_minor": 5
}
