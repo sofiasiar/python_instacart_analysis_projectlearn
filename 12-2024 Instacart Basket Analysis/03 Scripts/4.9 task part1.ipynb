{
 "cells": [
  {
   "cell_type": "markdown",
   "id": "8198963d-ec7f-4e61-bfae-4aa103de4c5a",
   "metadata": {},
   "source": [
    "# 3 Importing libraries and datasets"
   ]
  },
  {
   "cell_type": "code",
   "execution_count": 2,
   "id": "6382727b-530f-4814-9836-852cdae3edcd",
   "metadata": {},
   "outputs": [],
   "source": [
    "# Import libraries\n",
    "import pandas as pd\n",
    "import numpy as np\n",
    "import os\n",
    "import matplotlib.pyplot as plt\n",
    "import seaborn as sns\n",
    "import scipy"
   ]
  },
  {
   "cell_type": "code",
   "execution_count": 4,
   "id": "5173ed93-9431-4376-a931-9603f705b8ab",
   "metadata": {},
   "outputs": [],
   "source": [
    "# Import dataframes\n",
    "path= r\"C:\\Users\\sosia\\12-2024 Instacart Basket Analysis\""
   ]
  },
  {
   "cell_type": "code",
   "execution_count": 6,
   "id": "69ff0758-0fb9-4e0a-8f18-84b7206606b2",
   "metadata": {},
   "outputs": [],
   "source": [
    "customers = pd.read_csv(r'C:\\Users\\sosia\\12-2024 Instacart Basket Analysis\\02 Data\\Original Data\\customers\\customers.csv')"
   ]
  },
  {
   "cell_type": "markdown",
   "id": "c7ca6406-dc9a-451e-b23d-8ba7596882e7",
   "metadata": {},
   "source": [
    "# 4 Wrangle data"
   ]
  },
  {
   "cell_type": "code",
   "execution_count": 10,
   "id": "2c55c041-4f60-47af-8c13-63a6ea27b259",
   "metadata": {},
   "outputs": [
    {
     "data": {
      "text/html": [
       "<div>\n",
       "<style scoped>\n",
       "    .dataframe tbody tr th:only-of-type {\n",
       "        vertical-align: middle;\n",
       "    }\n",
       "\n",
       "    .dataframe tbody tr th {\n",
       "        vertical-align: top;\n",
       "    }\n",
       "\n",
       "    .dataframe thead th {\n",
       "        text-align: right;\n",
       "    }\n",
       "</style>\n",
       "<table border=\"1\" class=\"dataframe\">\n",
       "  <thead>\n",
       "    <tr style=\"text-align: right;\">\n",
       "      <th></th>\n",
       "      <th>user_id</th>\n",
       "      <th>First Name</th>\n",
       "      <th>Surnam</th>\n",
       "      <th>Gender</th>\n",
       "      <th>STATE</th>\n",
       "      <th>Age</th>\n",
       "      <th>date_joined</th>\n",
       "      <th>n_dependants</th>\n",
       "      <th>fam_status</th>\n",
       "      <th>income</th>\n",
       "    </tr>\n",
       "  </thead>\n",
       "  <tbody>\n",
       "    <tr>\n",
       "      <th>0</th>\n",
       "      <td>26711</td>\n",
       "      <td>Deborah</td>\n",
       "      <td>Esquivel</td>\n",
       "      <td>Female</td>\n",
       "      <td>Missouri</td>\n",
       "      <td>48</td>\n",
       "      <td>1/1/2017</td>\n",
       "      <td>3</td>\n",
       "      <td>married</td>\n",
       "      <td>165665</td>\n",
       "    </tr>\n",
       "    <tr>\n",
       "      <th>1</th>\n",
       "      <td>33890</td>\n",
       "      <td>Patricia</td>\n",
       "      <td>Hart</td>\n",
       "      <td>Female</td>\n",
       "      <td>New Mexico</td>\n",
       "      <td>36</td>\n",
       "      <td>1/1/2017</td>\n",
       "      <td>0</td>\n",
       "      <td>single</td>\n",
       "      <td>59285</td>\n",
       "    </tr>\n",
       "    <tr>\n",
       "      <th>2</th>\n",
       "      <td>65803</td>\n",
       "      <td>Kenneth</td>\n",
       "      <td>Farley</td>\n",
       "      <td>Male</td>\n",
       "      <td>Idaho</td>\n",
       "      <td>35</td>\n",
       "      <td>1/1/2017</td>\n",
       "      <td>2</td>\n",
       "      <td>married</td>\n",
       "      <td>99568</td>\n",
       "    </tr>\n",
       "    <tr>\n",
       "      <th>3</th>\n",
       "      <td>125935</td>\n",
       "      <td>Michelle</td>\n",
       "      <td>Hicks</td>\n",
       "      <td>Female</td>\n",
       "      <td>Iowa</td>\n",
       "      <td>40</td>\n",
       "      <td>1/1/2017</td>\n",
       "      <td>0</td>\n",
       "      <td>single</td>\n",
       "      <td>42049</td>\n",
       "    </tr>\n",
       "    <tr>\n",
       "      <th>4</th>\n",
       "      <td>130797</td>\n",
       "      <td>Ann</td>\n",
       "      <td>Gilmore</td>\n",
       "      <td>Female</td>\n",
       "      <td>Maryland</td>\n",
       "      <td>26</td>\n",
       "      <td>1/1/2017</td>\n",
       "      <td>1</td>\n",
       "      <td>married</td>\n",
       "      <td>40374</td>\n",
       "    </tr>\n",
       "  </tbody>\n",
       "</table>\n",
       "</div>"
      ],
      "text/plain": [
       "   user_id First Name    Surnam  Gender       STATE  Age date_joined  \\\n",
       "0    26711    Deborah  Esquivel  Female    Missouri   48    1/1/2017   \n",
       "1    33890   Patricia      Hart  Female  New Mexico   36    1/1/2017   \n",
       "2    65803    Kenneth    Farley    Male       Idaho   35    1/1/2017   \n",
       "3   125935   Michelle     Hicks  Female        Iowa   40    1/1/2017   \n",
       "4   130797        Ann   Gilmore  Female    Maryland   26    1/1/2017   \n",
       "\n",
       "   n_dependants fam_status  income  \n",
       "0             3    married  165665  \n",
       "1             0     single   59285  \n",
       "2             2    married   99568  \n",
       "3             0     single   42049  \n",
       "4             1    married   40374  "
      ]
     },
     "execution_count": 10,
     "metadata": {},
     "output_type": "execute_result"
    }
   ],
   "source": [
    "customers.head()"
   ]
  },
  {
   "cell_type": "code",
   "execution_count": 12,
   "id": "dc7fc026-c1dd-4e06-b2e0-74752b3049f5",
   "metadata": {},
   "outputs": [],
   "source": [
    "customers.rename(columns={\n",
    "    'First Name': 'first_name',\n",
    "    'Surnam': 'last_name',  # Correcting potential typo \"Surnam\" to \"last_name\"\n",
    "    'STATE': 'state',\n",
    "    'Age': 'age',\n",
    "    'date_joined': 'signup_date',\n",
    "    'n_dependants': 'num_dependents',\n",
    "    'fam_status': 'family_status',\n",
    "}, inplace=True)"
   ]
  },
  {
   "cell_type": "code",
   "execution_count": 16,
   "id": "7e5c7dcd-0139-4218-8326-a505bbadf364",
   "metadata": {},
   "outputs": [
    {
     "data": {
      "text/html": [
       "<div>\n",
       "<style scoped>\n",
       "    .dataframe tbody tr th:only-of-type {\n",
       "        vertical-align: middle;\n",
       "    }\n",
       "\n",
       "    .dataframe tbody tr th {\n",
       "        vertical-align: top;\n",
       "    }\n",
       "\n",
       "    .dataframe thead th {\n",
       "        text-align: right;\n",
       "    }\n",
       "</style>\n",
       "<table border=\"1\" class=\"dataframe\">\n",
       "  <thead>\n",
       "    <tr style=\"text-align: right;\">\n",
       "      <th></th>\n",
       "      <th>user_id</th>\n",
       "      <th>first_name</th>\n",
       "      <th>last_name</th>\n",
       "      <th>Gender</th>\n",
       "      <th>state</th>\n",
       "      <th>age</th>\n",
       "      <th>signup_date</th>\n",
       "      <th>num_dependents</th>\n",
       "      <th>family_status</th>\n",
       "      <th>income</th>\n",
       "    </tr>\n",
       "  </thead>\n",
       "  <tbody>\n",
       "    <tr>\n",
       "      <th>0</th>\n",
       "      <td>26711</td>\n",
       "      <td>Deborah</td>\n",
       "      <td>Esquivel</td>\n",
       "      <td>Female</td>\n",
       "      <td>Missouri</td>\n",
       "      <td>48</td>\n",
       "      <td>1/1/2017</td>\n",
       "      <td>3</td>\n",
       "      <td>married</td>\n",
       "      <td>165665</td>\n",
       "    </tr>\n",
       "    <tr>\n",
       "      <th>1</th>\n",
       "      <td>33890</td>\n",
       "      <td>Patricia</td>\n",
       "      <td>Hart</td>\n",
       "      <td>Female</td>\n",
       "      <td>New Mexico</td>\n",
       "      <td>36</td>\n",
       "      <td>1/1/2017</td>\n",
       "      <td>0</td>\n",
       "      <td>single</td>\n",
       "      <td>59285</td>\n",
       "    </tr>\n",
       "    <tr>\n",
       "      <th>2</th>\n",
       "      <td>65803</td>\n",
       "      <td>Kenneth</td>\n",
       "      <td>Farley</td>\n",
       "      <td>Male</td>\n",
       "      <td>Idaho</td>\n",
       "      <td>35</td>\n",
       "      <td>1/1/2017</td>\n",
       "      <td>2</td>\n",
       "      <td>married</td>\n",
       "      <td>99568</td>\n",
       "    </tr>\n",
       "    <tr>\n",
       "      <th>3</th>\n",
       "      <td>125935</td>\n",
       "      <td>Michelle</td>\n",
       "      <td>Hicks</td>\n",
       "      <td>Female</td>\n",
       "      <td>Iowa</td>\n",
       "      <td>40</td>\n",
       "      <td>1/1/2017</td>\n",
       "      <td>0</td>\n",
       "      <td>single</td>\n",
       "      <td>42049</td>\n",
       "    </tr>\n",
       "    <tr>\n",
       "      <th>4</th>\n",
       "      <td>130797</td>\n",
       "      <td>Ann</td>\n",
       "      <td>Gilmore</td>\n",
       "      <td>Female</td>\n",
       "      <td>Maryland</td>\n",
       "      <td>26</td>\n",
       "      <td>1/1/2017</td>\n",
       "      <td>1</td>\n",
       "      <td>married</td>\n",
       "      <td>40374</td>\n",
       "    </tr>\n",
       "  </tbody>\n",
       "</table>\n",
       "</div>"
      ],
      "text/plain": [
       "   user_id first_name last_name  Gender       state  age signup_date  \\\n",
       "0    26711    Deborah  Esquivel  Female    Missouri   48    1/1/2017   \n",
       "1    33890   Patricia      Hart  Female  New Mexico   36    1/1/2017   \n",
       "2    65803    Kenneth    Farley    Male       Idaho   35    1/1/2017   \n",
       "3   125935   Michelle     Hicks  Female        Iowa   40    1/1/2017   \n",
       "4   130797        Ann   Gilmore  Female    Maryland   26    1/1/2017   \n",
       "\n",
       "   num_dependents family_status  income  \n",
       "0               3       married  165665  \n",
       "1               0        single   59285  \n",
       "2               2       married   99568  \n",
       "3               0        single   42049  \n",
       "4               1       married   40374  "
      ]
     },
     "execution_count": 16,
     "metadata": {},
     "output_type": "execute_result"
    }
   ],
   "source": [
    "customers.head()\n"
   ]
  },
  {
   "cell_type": "markdown",
   "id": "3a066ec0-d614-4952-813c-d29f0256bf19",
   "metadata": {},
   "source": [
    "# data quality and consistency checks"
   ]
  },
  {
   "cell_type": "code",
   "execution_count": 26,
   "id": "2f413268-29a5-4537-acb2-a2a1d8d4c4a8",
   "metadata": {},
   "outputs": [],
   "source": [
    "# Check for Missing Values\n",
    "missing_values = customers.isnull().sum()"
   ]
  },
  {
   "cell_type": "code",
   "execution_count": 28,
   "id": "16afd044-da4d-4a2c-a6f2-06e4e1ded77f",
   "metadata": {},
   "outputs": [
    {
     "name": "stdout",
     "output_type": "stream",
     "text": [
      "Missing Values:\n",
      " user_id               0\n",
      "first_name        11259\n",
      "last_name             0\n",
      "Gender                0\n",
      "state                 0\n",
      "age                   0\n",
      "signup_date           0\n",
      "num_dependents        0\n",
      "family_status         0\n",
      "income                0\n",
      "dtype: int64\n"
     ]
    }
   ],
   "source": [
    "print(\"Missing Values:\\n\", missing_values)"
   ]
  },
  {
   "cell_type": "code",
   "execution_count": 30,
   "id": "903f13ba-ef3e-4462-bffd-484808f83614",
   "metadata": {},
   "outputs": [
    {
     "name": "stderr",
     "output_type": "stream",
     "text": [
      "C:\\Users\\sosia\\AppData\\Local\\Temp\\ipykernel_61944\\437434242.py:2: FutureWarning: A value is trying to be set on a copy of a DataFrame or Series through chained assignment using an inplace method.\n",
      "The behavior will change in pandas 3.0. This inplace method will never work because the intermediate object on which we are setting values always behaves as a copy.\n",
      "\n",
      "For example, when doing 'df[col].method(value, inplace=True)', try using 'df.method({col: value}, inplace=True)' or df[col] = df[col].method(value) instead, to perform the operation inplace on the original object.\n",
      "\n",
      "\n",
      "  customers['first_name'].fillna('Unknown', inplace=True)\n"
     ]
    }
   ],
   "source": [
    "# Handling missing values (Example: Fill missing last names with 'Unknown')\n",
    "customers['first_name'].fillna('Unknown', inplace=True)"
   ]
  },
  {
   "cell_type": "code",
   "execution_count": 32,
   "id": "850605f1-71b9-4200-b9e6-f5770dfc435b",
   "metadata": {},
   "outputs": [],
   "source": [
    "# Check for Duplicates\n",
    "duplicates = customers.duplicated().sum()"
   ]
  },
  {
   "cell_type": "code",
   "execution_count": 34,
   "id": "c444a2b1-f9e5-46f9-88cd-1851a34cf05c",
   "metadata": {},
   "outputs": [
    {
     "name": "stdout",
     "output_type": "stream",
     "text": [
      "Number of Duplicates: 0\n"
     ]
    }
   ],
   "source": [
    "print(\"Number of Duplicates:\", duplicates)"
   ]
  },
  {
   "cell_type": "code",
   "execution_count": 42,
   "id": "db49c58e-8283-47cf-bd4f-f288d5dccc01",
   "metadata": {},
   "outputs": [
    {
     "data": {
      "text/html": [
       "<div>\n",
       "<style scoped>\n",
       "    .dataframe tbody tr th:only-of-type {\n",
       "        vertical-align: middle;\n",
       "    }\n",
       "\n",
       "    .dataframe tbody tr th {\n",
       "        vertical-align: top;\n",
       "    }\n",
       "\n",
       "    .dataframe thead th {\n",
       "        text-align: right;\n",
       "    }\n",
       "</style>\n",
       "<table border=\"1\" class=\"dataframe\">\n",
       "  <thead>\n",
       "    <tr style=\"text-align: right;\">\n",
       "      <th></th>\n",
       "      <th>user_id</th>\n",
       "      <th>first_name</th>\n",
       "      <th>last_name</th>\n",
       "      <th>Gender</th>\n",
       "      <th>state</th>\n",
       "      <th>age</th>\n",
       "      <th>signup_date</th>\n",
       "      <th>num_dependents</th>\n",
       "      <th>family_status</th>\n",
       "      <th>income</th>\n",
       "    </tr>\n",
       "  </thead>\n",
       "  <tbody>\n",
       "    <tr>\n",
       "      <th>0</th>\n",
       "      <td>26711</td>\n",
       "      <td>Deborah</td>\n",
       "      <td>Esquivel</td>\n",
       "      <td>Female</td>\n",
       "      <td>Missouri</td>\n",
       "      <td>48</td>\n",
       "      <td>2017-01-01</td>\n",
       "      <td>3</td>\n",
       "      <td>married</td>\n",
       "      <td>165665</td>\n",
       "    </tr>\n",
       "    <tr>\n",
       "      <th>1</th>\n",
       "      <td>33890</td>\n",
       "      <td>Patricia</td>\n",
       "      <td>Hart</td>\n",
       "      <td>Female</td>\n",
       "      <td>New Mexico</td>\n",
       "      <td>36</td>\n",
       "      <td>2017-01-01</td>\n",
       "      <td>0</td>\n",
       "      <td>single</td>\n",
       "      <td>59285</td>\n",
       "    </tr>\n",
       "    <tr>\n",
       "      <th>2</th>\n",
       "      <td>65803</td>\n",
       "      <td>Kenneth</td>\n",
       "      <td>Farley</td>\n",
       "      <td>Male</td>\n",
       "      <td>Idaho</td>\n",
       "      <td>35</td>\n",
       "      <td>2017-01-01</td>\n",
       "      <td>2</td>\n",
       "      <td>married</td>\n",
       "      <td>99568</td>\n",
       "    </tr>\n",
       "    <tr>\n",
       "      <th>3</th>\n",
       "      <td>125935</td>\n",
       "      <td>Michelle</td>\n",
       "      <td>Hicks</td>\n",
       "      <td>Female</td>\n",
       "      <td>Iowa</td>\n",
       "      <td>40</td>\n",
       "      <td>2017-01-01</td>\n",
       "      <td>0</td>\n",
       "      <td>single</td>\n",
       "      <td>42049</td>\n",
       "    </tr>\n",
       "    <tr>\n",
       "      <th>4</th>\n",
       "      <td>130797</td>\n",
       "      <td>Ann</td>\n",
       "      <td>Gilmore</td>\n",
       "      <td>Female</td>\n",
       "      <td>Maryland</td>\n",
       "      <td>26</td>\n",
       "      <td>2017-01-01</td>\n",
       "      <td>1</td>\n",
       "      <td>married</td>\n",
       "      <td>40374</td>\n",
       "    </tr>\n",
       "  </tbody>\n",
       "</table>\n",
       "</div>"
      ],
      "text/plain": [
       "   user_id first_name last_name  Gender       state  age signup_date  \\\n",
       "0    26711    Deborah  Esquivel  Female    Missouri   48  2017-01-01   \n",
       "1    33890   Patricia      Hart  Female  New Mexico   36  2017-01-01   \n",
       "2    65803    Kenneth    Farley    Male       Idaho   35  2017-01-01   \n",
       "3   125935   Michelle     Hicks  Female        Iowa   40  2017-01-01   \n",
       "4   130797        Ann   Gilmore  Female    Maryland   26  2017-01-01   \n",
       "\n",
       "   num_dependents family_status  income  \n",
       "0               3       married  165665  \n",
       "1               0        single   59285  \n",
       "2               2       married   99568  \n",
       "3               0        single   42049  \n",
       "4               1       married   40374  "
      ]
     },
     "execution_count": 42,
     "metadata": {},
     "output_type": "execute_result"
    }
   ],
   "source": [
    "customers.head()"
   ]
  },
  {
   "cell_type": "code",
   "execution_count": 40,
   "id": "88c4fda1-b8b8-4b0f-b87b-31744e5c4086",
   "metadata": {},
   "outputs": [],
   "source": [
    "# Convert Data Types (Fix Mixed-Type Columns)\n",
    "# Convert 'signup_date' to datetime\n",
    "customers['signup_date'] = pd.to_datetime(customers['signup_date'])"
   ]
  },
  {
   "cell_type": "code",
   "execution_count": 50,
   "id": "4edd9670-31f9-41c4-90ea-c438a943703f",
   "metadata": {},
   "outputs": [],
   "source": [
    "# Convert 'age', 'num_dependents', and 'annual_income' to numeric types (ensure no text data)\n",
    "customers['age'] = pd.to_numeric(customers['age'])"
   ]
  },
  {
   "cell_type": "code",
   "execution_count": 52,
   "id": "d65a5722-8180-4e64-9c78-09b00bee58d0",
   "metadata": {},
   "outputs": [],
   "source": [
    "customers['num_dependents'] = pd.to_numeric(customers['num_dependents'])"
   ]
  },
  {
   "cell_type": "code",
   "execution_count": 54,
   "id": "e2cd753a-3a8c-4029-930e-0d484459fd2d",
   "metadata": {},
   "outputs": [],
   "source": [
    "customers['income'] = pd.to_numeric(customers['income'])"
   ]
  },
  {
   "cell_type": "code",
   "execution_count": 56,
   "id": "83707e20-954e-4372-a7ec-5b9af3f669f7",
   "metadata": {},
   "outputs": [
    {
     "name": "stdout",
     "output_type": "stream",
     "text": [
      "Unique Values in 'gender': ['Female' 'Male']\n"
     ]
    }
   ],
   "source": [
    "### 4. Validate Categorical Values\n",
    "# Check unique values in categorical columns to spot inconsistencies\n",
    "print(\"Unique Values in 'gender':\", customers['Gender'].unique())"
   ]
  },
  {
   "cell_type": "code",
   "execution_count": 58,
   "id": "bd9a1873-598a-42e1-8adc-6264c0160e0b",
   "metadata": {},
   "outputs": [
    {
     "name": "stdout",
     "output_type": "stream",
     "text": [
      "Unique Values in 'family_status': ['married' 'single' 'living with parents and siblings' 'divorced/widowed']\n"
     ]
    }
   ],
   "source": [
    "print(\"Unique Values in 'family_status':\", customers['family_status'].unique())"
   ]
  },
  {
   "cell_type": "code",
   "execution_count": 60,
   "id": "a103b985-65fe-4b7d-bbac-ffe2046417d9",
   "metadata": {},
   "outputs": [
    {
     "data": {
      "text/plain": [
       "<bound method DataFrame.info of         user_id first_name last_name  Gender           state  age signup_date  \\\n",
       "0         26711    Deborah  Esquivel  Female        Missouri   48  2017-01-01   \n",
       "1         33890   Patricia      Hart  Female      New Mexico   36  2017-01-01   \n",
       "2         65803    Kenneth    Farley    Male           Idaho   35  2017-01-01   \n",
       "3        125935   Michelle     Hicks  Female            Iowa   40  2017-01-01   \n",
       "4        130797        Ann   Gilmore  Female        Maryland   26  2017-01-01   \n",
       "...         ...        ...       ...     ...             ...  ...         ...   \n",
       "206204   168073       Lisa      Case  Female  North Carolina   44  2020-04-01   \n",
       "206205    49635     Jeremy   Robbins    Male          Hawaii   62  2020-04-01   \n",
       "206206   135902      Doris  Richmond  Female        Missouri   66  2020-04-01   \n",
       "206207    81095       Rose   Rollins  Female      California   27  2020-04-01   \n",
       "206208    80148    Cynthia     Noble  Female        New York   55  2020-04-01   \n",
       "\n",
       "        num_dependents family_status  income  \n",
       "0                    3       married  165665  \n",
       "1                    0        single   59285  \n",
       "2                    2       married   99568  \n",
       "3                    0        single   42049  \n",
       "4                    1       married   40374  \n",
       "...                ...           ...     ...  \n",
       "206204               1       married  148828  \n",
       "206205               3       married  168639  \n",
       "206206               2       married   53374  \n",
       "206207               1       married   99799  \n",
       "206208               1       married   57095  \n",
       "\n",
       "[206209 rows x 10 columns]>"
      ]
     },
     "execution_count": 60,
     "metadata": {},
     "output_type": "execute_result"
    }
   ],
   "source": [
    "customers.info"
   ]
  },
  {
   "cell_type": "code",
   "execution_count": 68,
   "id": "ec828b31-afb0-4672-9e5f-a49dd5010360",
   "metadata": {},
   "outputs": [
    {
     "name": "stdout",
     "output_type": "stream",
     "text": [
      "user_id                    int64\n",
      "first_name                object\n",
      "last_name                 object\n",
      "Gender                    object\n",
      "state                     object\n",
      "age                        int64\n",
      "signup_date       datetime64[ns]\n",
      "num_dependents             int64\n",
      "family_status             object\n",
      "income                     int64\n",
      "dtype: object\n"
     ]
    }
   ],
   "source": [
    "print(customers.dtypes)"
   ]
  },
  {
   "cell_type": "code",
   "execution_count": 72,
   "id": "c46e5b49-38c2-484e-9468-43b39bd57067",
   "metadata": {},
   "outputs": [],
   "source": [
    "# Export as pkl\n",
    "customers.to_pickle(os.path.join(path, '02 Data','Prepared Data', 'customers_cleaned.pkl'))"
   ]
  },
  {
   "cell_type": "code",
   "execution_count": null,
   "id": "04649983-33a3-4c6b-bfe3-9e8dd0dd9bc1",
   "metadata": {},
   "outputs": [],
   "source": []
  }
 ],
 "metadata": {
  "kernelspec": {
   "display_name": "Python [conda env:base] *",
   "language": "python",
   "name": "conda-base-py"
  },
  "language_info": {
   "codemirror_mode": {
    "name": "ipython",
    "version": 3
   },
   "file_extension": ".py",
   "mimetype": "text/x-python",
   "name": "python",
   "nbconvert_exporter": "python",
   "pygments_lexer": "ipython3",
   "version": "3.12.7"
  }
 },
 "nbformat": 4,
 "nbformat_minor": 5
}
