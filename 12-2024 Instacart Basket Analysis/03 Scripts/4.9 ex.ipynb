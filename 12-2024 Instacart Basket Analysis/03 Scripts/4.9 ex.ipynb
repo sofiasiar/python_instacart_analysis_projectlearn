{
 "cells": [
  {
   "cell_type": "markdown",
   "id": "974884af-f6b5-4f4b-8c0b-b1b571251757",
   "metadata": {},
   "source": [
    "# 4.9: Intro to Data Visualization with Python"
   ]
  },
  {
   "cell_type": "markdown",
   "id": "55a35a79-f830-450d-a307-b85bac6e8309",
   "metadata": {},
   "source": [
    "# Installing Libraries for Visualization"
   ]
  },
  {
   "cell_type": "code",
   "execution_count": 5,
   "id": "d59f9f60-a369-460d-977c-246ec58ddbc2",
   "metadata": {},
   "outputs": [],
   "source": [
    "# Import libraries\n",
    "import pandas as pd\n",
    "import numpy as np\n",
    "import os\n",
    "import matplotlib.pyplot as plt\n",
    "import seaborn as sns\n",
    "import scipy"
   ]
  },
  {
   "cell_type": "code",
   "execution_count": 9,
   "id": "48e67157-62f4-4ecf-be28-c19fa3d72ab3",
   "metadata": {},
   "outputs": [],
   "source": [
    "# Import dataframes\n",
    "path= r\"C:\\Users\\sosia\\12-2024 Instacart Basket Analysis\""
   ]
  },
  {
   "cell_type": "code",
   "execution_count": 99,
   "id": "1d224154-0804-4db5-9b6f-3f2d05870b47",
   "metadata": {},
   "outputs": [],
   "source": [
    "ords_prods_merge = pd.read_pickle(r'C:\\Users\\sosia\\12-2024 Instacart Basket Analysis\\02 Data\\Prepared Data\\ords_prods_merge48.pkl')"
   ]
  },
  {
   "cell_type": "markdown",
   "id": "aafcfb7b-3d5f-48fa-9fa7-2b38c70608da",
   "metadata": {},
   "source": [
    "# Visualizations"
   ]
  },
  {
   "cell_type": "markdown",
   "id": "c3d4f111-e6f7-4ff4-ad5f-1d30dfbe6d28",
   "metadata": {},
   "source": [
    "# Bar Charts"
   ]
  },
  {
   "cell_type": "code",
   "execution_count": 19,
   "id": "a5cc25aa-6515-43ec-bf53-15c35daaa05a",
   "metadata": {},
   "outputs": [
    {
     "data": {
      "text/html": [
       "<div>\n",
       "<style scoped>\n",
       "    .dataframe tbody tr th:only-of-type {\n",
       "        vertical-align: middle;\n",
       "    }\n",
       "\n",
       "    .dataframe tbody tr th {\n",
       "        vertical-align: top;\n",
       "    }\n",
       "\n",
       "    .dataframe thead th {\n",
       "        text-align: right;\n",
       "    }\n",
       "</style>\n",
       "<table border=\"1\" class=\"dataframe\">\n",
       "  <thead>\n",
       "    <tr style=\"text-align: right;\">\n",
       "      <th></th>\n",
       "      <th>Unnamed: 0.1</th>\n",
       "      <th>Unnamed: 0_x</th>\n",
       "      <th>order_id</th>\n",
       "      <th>user_id</th>\n",
       "      <th>eval_set</th>\n",
       "      <th>order_number</th>\n",
       "      <th>order_dow</th>\n",
       "      <th>order_hour_of_day</th>\n",
       "      <th>days_since_prior_order</th>\n",
       "      <th>product_id</th>\n",
       "      <th>...</th>\n",
       "      <th>prices</th>\n",
       "      <th>busiest_day</th>\n",
       "      <th>busiests_days</th>\n",
       "      <th>busiest_period_of_day</th>\n",
       "      <th>max_order</th>\n",
       "      <th>loyalty_flag</th>\n",
       "      <th>total_orders</th>\n",
       "      <th>avg_price_per_user</th>\n",
       "      <th>spending_flag</th>\n",
       "      <th>order_frequency_flag</th>\n",
       "    </tr>\n",
       "  </thead>\n",
       "  <tbody>\n",
       "    <tr>\n",
       "      <th>0</th>\n",
       "      <td>0</td>\n",
       "      <td>0</td>\n",
       "      <td>2539329</td>\n",
       "      <td>1</td>\n",
       "      <td>prior</td>\n",
       "      <td>1</td>\n",
       "      <td>2</td>\n",
       "      <td>8</td>\n",
       "      <td>NaN</td>\n",
       "      <td>196</td>\n",
       "      <td>...</td>\n",
       "      <td>9.0</td>\n",
       "      <td>Regularly busy</td>\n",
       "      <td>Regularly busy</td>\n",
       "      <td>Average orders</td>\n",
       "      <td>10</td>\n",
       "      <td>New Customer</td>\n",
       "      <td>10</td>\n",
       "      <td>6.367797</td>\n",
       "      <td>Low spender</td>\n",
       "      <td>Non-frequent customer</td>\n",
       "    </tr>\n",
       "    <tr>\n",
       "      <th>1</th>\n",
       "      <td>1</td>\n",
       "      <td>0</td>\n",
       "      <td>2539329</td>\n",
       "      <td>1</td>\n",
       "      <td>prior</td>\n",
       "      <td>1</td>\n",
       "      <td>2</td>\n",
       "      <td>8</td>\n",
       "      <td>NaN</td>\n",
       "      <td>14084</td>\n",
       "      <td>...</td>\n",
       "      <td>12.5</td>\n",
       "      <td>Regularly busy</td>\n",
       "      <td>Regularly busy</td>\n",
       "      <td>Average orders</td>\n",
       "      <td>10</td>\n",
       "      <td>New Customer</td>\n",
       "      <td>10</td>\n",
       "      <td>6.367797</td>\n",
       "      <td>Low spender</td>\n",
       "      <td>Non-frequent customer</td>\n",
       "    </tr>\n",
       "    <tr>\n",
       "      <th>2</th>\n",
       "      <td>2</td>\n",
       "      <td>0</td>\n",
       "      <td>2539329</td>\n",
       "      <td>1</td>\n",
       "      <td>prior</td>\n",
       "      <td>1</td>\n",
       "      <td>2</td>\n",
       "      <td>8</td>\n",
       "      <td>NaN</td>\n",
       "      <td>12427</td>\n",
       "      <td>...</td>\n",
       "      <td>4.4</td>\n",
       "      <td>Regularly busy</td>\n",
       "      <td>Regularly busy</td>\n",
       "      <td>Average orders</td>\n",
       "      <td>10</td>\n",
       "      <td>New Customer</td>\n",
       "      <td>10</td>\n",
       "      <td>6.367797</td>\n",
       "      <td>Low spender</td>\n",
       "      <td>Non-frequent customer</td>\n",
       "    </tr>\n",
       "    <tr>\n",
       "      <th>3</th>\n",
       "      <td>3</td>\n",
       "      <td>0</td>\n",
       "      <td>2539329</td>\n",
       "      <td>1</td>\n",
       "      <td>prior</td>\n",
       "      <td>1</td>\n",
       "      <td>2</td>\n",
       "      <td>8</td>\n",
       "      <td>NaN</td>\n",
       "      <td>26088</td>\n",
       "      <td>...</td>\n",
       "      <td>4.7</td>\n",
       "      <td>Regularly busy</td>\n",
       "      <td>Regularly busy</td>\n",
       "      <td>Average orders</td>\n",
       "      <td>10</td>\n",
       "      <td>New Customer</td>\n",
       "      <td>10</td>\n",
       "      <td>6.367797</td>\n",
       "      <td>Low spender</td>\n",
       "      <td>Non-frequent customer</td>\n",
       "    </tr>\n",
       "    <tr>\n",
       "      <th>4</th>\n",
       "      <td>4</td>\n",
       "      <td>0</td>\n",
       "      <td>2539329</td>\n",
       "      <td>1</td>\n",
       "      <td>prior</td>\n",
       "      <td>1</td>\n",
       "      <td>2</td>\n",
       "      <td>8</td>\n",
       "      <td>NaN</td>\n",
       "      <td>26405</td>\n",
       "      <td>...</td>\n",
       "      <td>1.0</td>\n",
       "      <td>Regularly busy</td>\n",
       "      <td>Regularly busy</td>\n",
       "      <td>Average orders</td>\n",
       "      <td>10</td>\n",
       "      <td>New Customer</td>\n",
       "      <td>10</td>\n",
       "      <td>6.367797</td>\n",
       "      <td>Low spender</td>\n",
       "      <td>Non-frequent customer</td>\n",
       "    </tr>\n",
       "  </tbody>\n",
       "</table>\n",
       "<p>5 rows × 27 columns</p>\n",
       "</div>"
      ],
      "text/plain": [
       "   Unnamed: 0.1  Unnamed: 0_x  order_id  user_id eval_set  order_number  \\\n",
       "0             0             0   2539329        1    prior             1   \n",
       "1             1             0   2539329        1    prior             1   \n",
       "2             2             0   2539329        1    prior             1   \n",
       "3             3             0   2539329        1    prior             1   \n",
       "4             4             0   2539329        1    prior             1   \n",
       "\n",
       "   order_dow  order_hour_of_day  days_since_prior_order  product_id  ...  \\\n",
       "0          2                  8                     NaN         196  ...   \n",
       "1          2                  8                     NaN       14084  ...   \n",
       "2          2                  8                     NaN       12427  ...   \n",
       "3          2                  8                     NaN       26088  ...   \n",
       "4          2                  8                     NaN       26405  ...   \n",
       "\n",
       "   prices     busiest_day   busiests_days  busiest_period_of_day max_order  \\\n",
       "0     9.0  Regularly busy  Regularly busy         Average orders        10   \n",
       "1    12.5  Regularly busy  Regularly busy         Average orders        10   \n",
       "2     4.4  Regularly busy  Regularly busy         Average orders        10   \n",
       "3     4.7  Regularly busy  Regularly busy         Average orders        10   \n",
       "4     1.0  Regularly busy  Regularly busy         Average orders        10   \n",
       "\n",
       "   loyalty_flag  total_orders  avg_price_per_user spending_flag  \\\n",
       "0  New Customer            10            6.367797   Low spender   \n",
       "1  New Customer            10            6.367797   Low spender   \n",
       "2  New Customer            10            6.367797   Low spender   \n",
       "3  New Customer            10            6.367797   Low spender   \n",
       "4  New Customer            10            6.367797   Low spender   \n",
       "\n",
       "    order_frequency_flag  \n",
       "0  Non-frequent customer  \n",
       "1  Non-frequent customer  \n",
       "2  Non-frequent customer  \n",
       "3  Non-frequent customer  \n",
       "4  Non-frequent customer  \n",
       "\n",
       "[5 rows x 27 columns]"
      ]
     },
     "execution_count": 19,
     "metadata": {},
     "output_type": "execute_result"
    }
   ],
   "source": [
    "ords_prods_merge.head()"
   ]
  },
  {
   "cell_type": "code",
   "execution_count": 21,
   "id": "ce9baf33-1886-494d-b436-230500bbdd92",
   "metadata": {},
   "outputs": [
    {
     "data": {
      "text/plain": [
       "<Axes: xlabel='order_dow'>"
      ]
     },
     "execution_count": 21,
     "metadata": {},
     "output_type": "execute_result"
    },
    {
     "data": {
      "image/png": "[encoded data removed]",
      "text/plain": [
       "<Figure size 640x480 with 1 Axes>"
      ]
     },
     "metadata": {},
     "output_type": "display_data"
    }
   ],
   "source": [
    "\n",
    "ords_prods_merge['order_dow'].value_counts().plot.bar()"
   ]
  },
  {
   "cell_type": "code",
   "execution_count": 25,
   "id": "45bc87c8-14ac-4337-9f8c-93447e1df2de",
   "metadata": {},
   "outputs": [
    {
     "data": {
      "text/plain": [
       "<Axes: xlabel='order_dow'>"
      ]
     },
     "execution_count": 25,
     "metadata": {},
     "output_type": "execute_result"
    },
    {
     "data": {
      "image/png": "[encoded data removed]",
      "text/plain": [
       "<Figure size 640x480 with 1 Axes>"
      ]
     },
     "metadata": {},
     "output_type": "display_data"
    }
   ],
   "source": [
    "# different sorting \n",
    "ords_prods_merge['order_dow'].value_counts().sort_index().plot.bar()"
   ]
  },
  {
   "cell_type": "markdown",
   "id": "3f813fe5-a434-4286-8d07-3227b8017150",
   "metadata": {},
   "source": [
    "# Exporting Charts"
   ]
  },
  {
   "cell_type": "code",
   "execution_count": 29,
   "id": "8b1f33f6-35f7-4ffd-8632-45d50b293371",
   "metadata": {},
   "outputs": [
    {
     "data": {
      "image/png": "[encoded data removed]",
      "text/plain": [
       "<Figure size 640x480 with 1 Axes>"
      ]
     },
     "metadata": {},
     "output_type": "display_data"
    }
   ],
   "source": [
    "bar = ords_prods_merge['order_dow'].value_counts().plot.bar(color =['purple', 'red', 'pink', 'orange', 'yellow', 'green', 'blue'])"
   ]
  },
  {
   "cell_type": "code",
   "execution_count": null,
   "id": "7d296470-f0da-44ee-b9f5-1243c90219fc",
   "metadata": {},
   "outputs": [],
   "source": [
    "# Bar chart is saved within the bar object. Access it by calling bar.figure."
   ]
  },
  {
   "cell_type": "code",
   "execution_count": 32,
   "id": "a289a527-c923-4d48-b861-a4404f593347",
   "metadata": {},
   "outputs": [],
   "source": [
    "# export it in the form of an image file via the figure.savefig() function\n",
    "bar.figure.savefig(os.path.join(path, '04 Analysis','Visualizations', 'bar_orders_dow.png'))"
   ]
  },
  {
   "cell_type": "markdown",
   "id": "855cb903-9a53-4a04-b4f9-e7ad40e0884a",
   "metadata": {},
   "source": [
    "# Histograms"
   ]
  },
  {
   "cell_type": "code",
   "execution_count": 35,
   "id": "549d544b-827d-4581-9994-2f25bb6b2041",
   "metadata": {},
   "outputs": [
    {
     "data": {
      "text/plain": [
       "<Axes: ylabel='Frequency'>"
      ]
     },
     "execution_count": 35,
     "metadata": {},
     "output_type": "execute_result"
    },
    {
     "data": {
      "image/png": "[encoded data removed]",
      "text/plain": [
       "<Figure size 640x480 with 1 Axes>"
      ]
     },
     "metadata": {},
     "output_type": "display_data"
    }
   ],
   "source": [
    "ords_prods_merge['prices'].plot.hist(bins = 25)"
   ]
  },
  {
   "cell_type": "code",
   "execution_count": 37,
   "id": "e3c2a2ae-aeb4-4e66-84cd-8409e730b6d4",
   "metadata": {},
   "outputs": [
    {
     "data": {
      "text/plain": [
       "<Axes: xlabel='prices', ylabel='prices'>"
      ]
     },
     "execution_count": 37,
     "metadata": {},
     "output_type": "execute_result"
    },
    {
     "data": {
      "image/png": "[encoded data removed]",
      "text/plain": [
       "<Figure size 640x480 with 1 Axes>"
      ]
     },
     "metadata": {},
     "output_type": "display_data"
    }
   ],
   "source": [
    "sns.scatterplot(x = 'prices', y = 'prices',data = ords_prods_merge)"
   ]
  },
  {
   "cell_type": "code",
   "execution_count": null,
   "id": "61e92e97-59ad-4517-9f0b-14963fe2bb6a",
   "metadata": {},
   "outputs": [],
   "source": []
  },
  {
   "cell_type": "markdown",
   "id": "343d5f5a-87aa-446a-8ab3-6ecc057107ad",
   "metadata": {},
   "source": [
    "# Data Cleaning"
   ]
  },
  {
   "cell_type": "code",
   "execution_count": 39,
   "id": "2b02eb40-ad1d-452a-af55-252fed0ae47e",
   "metadata": {
    "scrolled": true
   },
   "outputs": [
    {
     "data": {
      "text/html": [
       "<div>\n",
       "<style scoped>\n",
       "    .dataframe tbody tr th:only-of-type {\n",
       "        vertical-align: middle;\n",
       "    }\n",
       "\n",
       "    .dataframe tbody tr th {\n",
       "        vertical-align: top;\n",
       "    }\n",
       "\n",
       "    .dataframe thead th {\n",
       "        text-align: right;\n",
       "    }\n",
       "</style>\n",
       "<table border=\"1\" class=\"dataframe\">\n",
       "  <thead>\n",
       "    <tr style=\"text-align: right;\">\n",
       "      <th></th>\n",
       "      <th>Unnamed: 0.1</th>\n",
       "      <th>Unnamed: 0_x</th>\n",
       "      <th>order_id</th>\n",
       "      <th>user_id</th>\n",
       "      <th>eval_set</th>\n",
       "      <th>order_number</th>\n",
       "      <th>order_dow</th>\n",
       "      <th>order_hour_of_day</th>\n",
       "      <th>days_since_prior_order</th>\n",
       "      <th>product_id</th>\n",
       "      <th>...</th>\n",
       "      <th>prices</th>\n",
       "      <th>busiest_day</th>\n",
       "      <th>busiests_days</th>\n",
       "      <th>busiest_period_of_day</th>\n",
       "      <th>max_order</th>\n",
       "      <th>loyalty_flag</th>\n",
       "      <th>total_orders</th>\n",
       "      <th>avg_price_per_user</th>\n",
       "      <th>spending_flag</th>\n",
       "      <th>order_frequency_flag</th>\n",
       "    </tr>\n",
       "  </thead>\n",
       "  <tbody>\n",
       "    <tr>\n",
       "      <th>1576</th>\n",
       "      <td>1576</td>\n",
       "      <td>171</td>\n",
       "      <td>912404</td>\n",
       "      <td>17</td>\n",
       "      <td>prior</td>\n",
       "      <td>12</td>\n",
       "      <td>2</td>\n",
       "      <td>14</td>\n",
       "      <td>5.0</td>\n",
       "      <td>21553</td>\n",
       "      <td>...</td>\n",
       "      <td>14900.0</td>\n",
       "      <td>Regularly busy</td>\n",
       "      <td>Regularly busy</td>\n",
       "      <td>Most orders</td>\n",
       "      <td>40</td>\n",
       "      <td>Regular Customer</td>\n",
       "      <td>40</td>\n",
       "      <td>108.648299</td>\n",
       "      <td>High spender</td>\n",
       "      <td>Frequent customer</td>\n",
       "    </tr>\n",
       "    <tr>\n",
       "      <th>1638</th>\n",
       "      <td>1638</td>\n",
       "      <td>181</td>\n",
       "      <td>603376</td>\n",
       "      <td>17</td>\n",
       "      <td>prior</td>\n",
       "      <td>22</td>\n",
       "      <td>6</td>\n",
       "      <td>16</td>\n",
       "      <td>4.0</td>\n",
       "      <td>21553</td>\n",
       "      <td>...</td>\n",
       "      <td>14900.0</td>\n",
       "      <td>Regularly busy</td>\n",
       "      <td>Regularly busy</td>\n",
       "      <td>Most orders</td>\n",
       "      <td>40</td>\n",
       "      <td>Regular Customer</td>\n",
       "      <td>40</td>\n",
       "      <td>108.648299</td>\n",
       "      <td>High spender</td>\n",
       "      <td>Frequent customer</td>\n",
       "    </tr>\n",
       "    <tr>\n",
       "      <th>16522</th>\n",
       "      <td>16534</td>\n",
       "      <td>1944</td>\n",
       "      <td>3264360</td>\n",
       "      <td>135</td>\n",
       "      <td>prior</td>\n",
       "      <td>2</td>\n",
       "      <td>2</td>\n",
       "      <td>21</td>\n",
       "      <td>13.0</td>\n",
       "      <td>21553</td>\n",
       "      <td>...</td>\n",
       "      <td>14900.0</td>\n",
       "      <td>Regularly busy</td>\n",
       "      <td>Regularly busy</td>\n",
       "      <td>Average orders</td>\n",
       "      <td>4</td>\n",
       "      <td>New Customer</td>\n",
       "      <td>4</td>\n",
       "      <td>1154.792308</td>\n",
       "      <td>High spender</td>\n",
       "      <td>Regular customer</td>\n",
       "    </tr>\n",
       "    <tr>\n",
       "      <th>16528</th>\n",
       "      <td>16540</td>\n",
       "      <td>1945</td>\n",
       "      <td>892534</td>\n",
       "      <td>135</td>\n",
       "      <td>prior</td>\n",
       "      <td>3</td>\n",
       "      <td>0</td>\n",
       "      <td>8</td>\n",
       "      <td>12.0</td>\n",
       "      <td>21553</td>\n",
       "      <td>...</td>\n",
       "      <td>14900.0</td>\n",
       "      <td>Busiest day</td>\n",
       "      <td>Busiest days</td>\n",
       "      <td>Average orders</td>\n",
       "      <td>4</td>\n",
       "      <td>New Customer</td>\n",
       "      <td>4</td>\n",
       "      <td>1154.792308</td>\n",
       "      <td>High spender</td>\n",
       "      <td>Regular customer</td>\n",
       "    </tr>\n",
       "    <tr>\n",
       "      <th>53672</th>\n",
       "      <td>53711</td>\n",
       "      <td>5708</td>\n",
       "      <td>229704</td>\n",
       "      <td>342</td>\n",
       "      <td>prior</td>\n",
       "      <td>8</td>\n",
       "      <td>1</td>\n",
       "      <td>19</td>\n",
       "      <td>30.0</td>\n",
       "      <td>21553</td>\n",
       "      <td>...</td>\n",
       "      <td>14900.0</td>\n",
       "      <td>Regularly busy</td>\n",
       "      <td>Busiest days</td>\n",
       "      <td>Average orders</td>\n",
       "      <td>16</td>\n",
       "      <td>Regular Customer</td>\n",
       "      <td>16</td>\n",
       "      <td>114.426619</td>\n",
       "      <td>High spender</td>\n",
       "      <td>Non-frequent customer</td>\n",
       "    </tr>\n",
       "    <tr>\n",
       "      <th>...</th>\n",
       "      <td>...</td>\n",
       "      <td>...</td>\n",
       "      <td>...</td>\n",
       "      <td>...</td>\n",
       "      <td>...</td>\n",
       "      <td>...</td>\n",
       "      <td>...</td>\n",
       "      <td>...</td>\n",
       "      <td>...</td>\n",
       "      <td>...</td>\n",
       "      <td>...</td>\n",
       "      <td>...</td>\n",
       "      <td>...</td>\n",
       "      <td>...</td>\n",
       "      <td>...</td>\n",
       "      <td>...</td>\n",
       "      <td>...</td>\n",
       "      <td>...</td>\n",
       "      <td>...</td>\n",
       "      <td>...</td>\n",
       "      <td>...</td>\n",
       "    </tr>\n",
       "    <tr>\n",
       "      <th>958974</th>\n",
       "      <td>959870</td>\n",
       "      <td>102658</td>\n",
       "      <td>840159</td>\n",
       "      <td>6217</td>\n",
       "      <td>prior</td>\n",
       "      <td>13</td>\n",
       "      <td>1</td>\n",
       "      <td>11</td>\n",
       "      <td>15.0</td>\n",
       "      <td>21553</td>\n",
       "      <td>...</td>\n",
       "      <td>14900.0</td>\n",
       "      <td>Regularly busy</td>\n",
       "      <td>Busiest days</td>\n",
       "      <td>Most orders</td>\n",
       "      <td>23</td>\n",
       "      <td>Regular Customer</td>\n",
       "      <td>23</td>\n",
       "      <td>391.192949</td>\n",
       "      <td>High spender</td>\n",
       "      <td>Regular customer</td>\n",
       "    </tr>\n",
       "    <tr>\n",
       "      <th>959020</th>\n",
       "      <td>959916</td>\n",
       "      <td>102665</td>\n",
       "      <td>1235750</td>\n",
       "      <td>6217</td>\n",
       "      <td>prior</td>\n",
       "      <td>20</td>\n",
       "      <td>5</td>\n",
       "      <td>9</td>\n",
       "      <td>11.0</td>\n",
       "      <td>21553</td>\n",
       "      <td>...</td>\n",
       "      <td>14900.0</td>\n",
       "      <td>Regularly busy</td>\n",
       "      <td>Regularly busy</td>\n",
       "      <td>Average orders</td>\n",
       "      <td>23</td>\n",
       "      <td>Regular Customer</td>\n",
       "      <td>23</td>\n",
       "      <td>391.192949</td>\n",
       "      <td>High spender</td>\n",
       "      <td>Regular customer</td>\n",
       "    </tr>\n",
       "    <tr>\n",
       "      <th>960274</th>\n",
       "      <td>961170</td>\n",
       "      <td>102737</td>\n",
       "      <td>40712</td>\n",
       "      <td>6221</td>\n",
       "      <td>prior</td>\n",
       "      <td>5</td>\n",
       "      <td>0</td>\n",
       "      <td>15</td>\n",
       "      <td>8.0</td>\n",
       "      <td>21553</td>\n",
       "      <td>...</td>\n",
       "      <td>14900.0</td>\n",
       "      <td>Busiest day</td>\n",
       "      <td>Busiest days</td>\n",
       "      <td>Most orders</td>\n",
       "      <td>15</td>\n",
       "      <td>Regular Customer</td>\n",
       "      <td>15</td>\n",
       "      <td>163.051832</td>\n",
       "      <td>High spender</td>\n",
       "      <td>Regular customer</td>\n",
       "    </tr>\n",
       "    <tr>\n",
       "      <th>960348</th>\n",
       "      <td>961244</td>\n",
       "      <td>102742</td>\n",
       "      <td>2567369</td>\n",
       "      <td>6221</td>\n",
       "      <td>prior</td>\n",
       "      <td>10</td>\n",
       "      <td>2</td>\n",
       "      <td>17</td>\n",
       "      <td>17.0</td>\n",
       "      <td>21553</td>\n",
       "      <td>...</td>\n",
       "      <td>14900.0</td>\n",
       "      <td>Regularly busy</td>\n",
       "      <td>Regularly busy</td>\n",
       "      <td>Most orders</td>\n",
       "      <td>15</td>\n",
       "      <td>Regular Customer</td>\n",
       "      <td>15</td>\n",
       "      <td>163.051832</td>\n",
       "      <td>High spender</td>\n",
       "      <td>Regular customer</td>\n",
       "    </tr>\n",
       "    <tr>\n",
       "      <th>960509</th>\n",
       "      <td>961405</td>\n",
       "      <td>102758</td>\n",
       "      <td>842052</td>\n",
       "      <td>6222</td>\n",
       "      <td>prior</td>\n",
       "      <td>10</td>\n",
       "      <td>1</td>\n",
       "      <td>18</td>\n",
       "      <td>17.0</td>\n",
       "      <td>33664</td>\n",
       "      <td>...</td>\n",
       "      <td>99999.0</td>\n",
       "      <td>Regularly busy</td>\n",
       "      <td>Busiest days</td>\n",
       "      <td>Average orders</td>\n",
       "      <td>22</td>\n",
       "      <td>Regular Customer</td>\n",
       "      <td>22</td>\n",
       "      <td>408.456000</td>\n",
       "      <td>High spender</td>\n",
       "      <td>Regular customer</td>\n",
       "    </tr>\n",
       "  </tbody>\n",
       "</table>\n",
       "<p>157 rows × 27 columns</p>\n",
       "</div>"
      ],
      "text/plain": [
       "        Unnamed: 0.1  Unnamed: 0_x  order_id  user_id eval_set  order_number  \\\n",
       "1576            1576           171    912404       17    prior            12   \n",
       "1638            1638           181    603376       17    prior            22   \n",
       "16522          16534          1944   3264360      135    prior             2   \n",
       "16528          16540          1945    892534      135    prior             3   \n",
       "53672          53711          5708    229704      342    prior             8   \n",
       "...              ...           ...       ...      ...      ...           ...   \n",
       "958974        959870        102658    840159     6217    prior            13   \n",
       "959020        959916        102665   1235750     6217    prior            20   \n",
       "960274        961170        102737     40712     6221    prior             5   \n",
       "960348        961244        102742   2567369     6221    prior            10   \n",
       "960509        961405        102758    842052     6222    prior            10   \n",
       "\n",
       "        order_dow  order_hour_of_day  days_since_prior_order  product_id  ...  \\\n",
       "1576            2                 14                     5.0       21553  ...   \n",
       "1638            6                 16                     4.0       21553  ...   \n",
       "16522           2                 21                    13.0       21553  ...   \n",
       "16528           0                  8                    12.0       21553  ...   \n",
       "53672           1                 19                    30.0       21553  ...   \n",
       "...           ...                ...                     ...         ...  ...   \n",
       "958974          1                 11                    15.0       21553  ...   \n",
       "959020          5                  9                    11.0       21553  ...   \n",
       "960274          0                 15                     8.0       21553  ...   \n",
       "960348          2                 17                    17.0       21553  ...   \n",
       "960509          1                 18                    17.0       33664  ...   \n",
       "\n",
       "         prices     busiest_day   busiests_days  busiest_period_of_day  \\\n",
       "1576    14900.0  Regularly busy  Regularly busy            Most orders   \n",
       "1638    14900.0  Regularly busy  Regularly busy            Most orders   \n",
       "16522   14900.0  Regularly busy  Regularly busy         Average orders   \n",
       "16528   14900.0     Busiest day    Busiest days         Average orders   \n",
       "53672   14900.0  Regularly busy    Busiest days         Average orders   \n",
       "...         ...             ...             ...                    ...   \n",
       "958974  14900.0  Regularly busy    Busiest days            Most orders   \n",
       "959020  14900.0  Regularly busy  Regularly busy         Average orders   \n",
       "960274  14900.0     Busiest day    Busiest days            Most orders   \n",
       "960348  14900.0  Regularly busy  Regularly busy            Most orders   \n",
       "960509  99999.0  Regularly busy    Busiest days         Average orders   \n",
       "\n",
       "       max_order      loyalty_flag  total_orders  avg_price_per_user  \\\n",
       "1576          40  Regular Customer            40          108.648299   \n",
       "1638          40  Regular Customer            40          108.648299   \n",
       "16522          4      New Customer             4         1154.792308   \n",
       "16528          4      New Customer             4         1154.792308   \n",
       "53672         16  Regular Customer            16          114.426619   \n",
       "...          ...               ...           ...                 ...   \n",
       "958974        23  Regular Customer            23          391.192949   \n",
       "959020        23  Regular Customer            23          391.192949   \n",
       "960274        15  Regular Customer            15          163.051832   \n",
       "960348        15  Regular Customer            15          163.051832   \n",
       "960509        22  Regular Customer            22          408.456000   \n",
       "\n",
       "       spending_flag   order_frequency_flag  \n",
       "1576    High spender      Frequent customer  \n",
       "1638    High spender      Frequent customer  \n",
       "16522   High spender       Regular customer  \n",
       "16528   High spender       Regular customer  \n",
       "53672   High spender  Non-frequent customer  \n",
       "...              ...                    ...  \n",
       "958974  High spender       Regular customer  \n",
       "959020  High spender       Regular customer  \n",
       "960274  High spender       Regular customer  \n",
       "960348  High spender       Regular customer  \n",
       "960509  High spender       Regular customer  \n",
       "\n",
       "[157 rows x 27 columns]"
      ]
     },
     "execution_count": 39,
     "metadata": {},
     "output_type": "execute_result"
    }
   ],
   "source": [
    "ords_prods_merge.loc[ords_prods_merge['prices'] > 100]"
   ]
  },
  {
   "cell_type": "code",
   "execution_count": 41,
   "id": "9f753301-814c-49f2-9ed2-fd1f90b17b00",
   "metadata": {},
   "outputs": [],
   "source": [
    "ords_prods_merge.loc[ords_prods_merge['prices'] >100, 'prices'] = np.nan"
   ]
  },
  {
   "cell_type": "code",
   "execution_count": 45,
   "id": "11fc2d08-7318-4d67-9c84-68e8e4d03bf4",
   "metadata": {},
   "outputs": [
    {
     "data": {
      "text/plain": [
       "25.0"
      ]
     },
     "execution_count": 45,
     "metadata": {},
     "output_type": "execute_result"
    }
   ],
   "source": [
    "ords_prods_merge['prices'].max()"
   ]
  },
  {
   "cell_type": "code",
   "execution_count": 50,
   "id": "ea838c59-58ed-4cf8-aaa6-998ab4f7f479",
   "metadata": {},
   "outputs": [
    {
     "data": {
      "text/plain": [
       "<Axes: ylabel='Frequency'>"
      ]
     },
     "execution_count": 50,
     "metadata": {},
     "output_type": "execute_result"
    },
    {
     "data": {
      "image/png": "[encoded data removed]",
      "text/plain": [
       "<Figure size 640x480 with 1 Axes>"
      ]
     },
     "metadata": {},
     "output_type": "display_data"
    }
   ],
   "source": [
    "ords_prods_merge['prices'].plot.hist(bins = 70)"
   ]
  },
  {
   "cell_type": "code",
   "execution_count": 60,
   "id": "d6902d64-e9a0-48ad-94fb-621ec22d9530",
   "metadata": {},
   "outputs": [
    {
     "data": {
      "image/png": "[encoded data removed]",
      "text/plain": [
       "<Figure size 640x480 with 1 Axes>"
      ]
     },
     "metadata": {},
     "output_type": "display_data"
    }
   ],
   "source": [
    "hist = ords_prods_merge['prices'].plot.hist(bins = 70)"
   ]
  },
  {
   "cell_type": "code",
   "execution_count": 62,
   "id": "4b70c94c-4210-4df4-b6ce-f22e253e1c62",
   "metadata": {},
   "outputs": [],
   "source": [
    "# Exporting a histogram\n",
    "hist.figure.savefig(os.path.join(path, '04 Analysis','Visualizations', 'hist_order.png'))"
   ]
  },
  {
   "cell_type": "code",
   "execution_count": 64,
   "id": "8e79cd4f-27ec-4ebd-8817-e12bf03edf46",
   "metadata": {},
   "outputs": [],
   "source": [
    "df = ords_prods_merge[:2000000]"
   ]
  },
  {
   "cell_type": "markdown",
   "id": "c1733fda-82cc-4909-b05f-44933fc52f5f",
   "metadata": {},
   "source": [
    "# Sampling data"
   ]
  },
  {
   "cell_type": "code",
   "execution_count": 75,
   "id": "0eb1c37c-4965-4c49-8f90-0a45cedfef73",
   "metadata": {},
   "outputs": [],
   "source": [
    "np.random.seed(4)\n"
   ]
  },
  {
   "cell_type": "code",
   "execution_count": 77,
   "id": "8cf0de4f-686a-4240-a7f1-107ca5845f79",
   "metadata": {},
   "outputs": [],
   "source": [
    "dev = np.random.rand(len(ords_prods_merge)) <= 0.7"
   ]
  },
  {
   "cell_type": "code",
   "execution_count": 79,
   "id": "942680b7-4941-4c08-963a-e1617908976a",
   "metadata": {},
   "outputs": [],
   "source": [
    "big = ords_prods_merge[dev]\n"
   ]
  },
  {
   "cell_type": "code",
   "execution_count": 81,
   "id": "d5781374-c0d6-4340-b4e4-c94e36b47951",
   "metadata": {},
   "outputs": [],
   "source": [
    "small = ords_prods_merge[~dev]"
   ]
  },
  {
   "cell_type": "code",
   "execution_count": 83,
   "id": "f9c022d8-b2f1-428d-9dad-82fd5c5b072e",
   "metadata": {},
   "outputs": [
    {
     "data": {
      "text/plain": [
       "1000000"
      ]
     },
     "execution_count": 83,
     "metadata": {},
     "output_type": "execute_result"
    }
   ],
   "source": [
    "len(ords_prods_merge)"
   ]
  },
  {
   "cell_type": "code",
   "execution_count": 87,
   "id": "d7fe59fe-b113-4603-8a33-6b9efabc2e29",
   "metadata": {},
   "outputs": [
    {
     "data": {
      "text/plain": [
       "1000000"
      ]
     },
     "execution_count": 87,
     "metadata": {},
     "output_type": "execute_result"
    }
   ],
   "source": [
    "len(big)+len(small)"
   ]
  },
  {
   "cell_type": "code",
   "execution_count": 93,
   "id": "a1f2e017-e9d2-411c-8f4b-98d27356fc3d",
   "metadata": {},
   "outputs": [],
   "source": [
    "df_2 = small[['order_dow','prices']]"
   ]
  },
  {
   "cell_type": "code",
   "execution_count": 97,
   "id": "3ffa692b-8a80-46b0-ad77-03f42546a1ed",
   "metadata": {},
   "outputs": [
    {
     "data": {
      "image/png": "[encoded data removed]",
      "text/plain": [
       "<Figure size 640x480 with 1 Axes>"
      ]
     },
     "metadata": {},
     "output_type": "display_data"
    }
   ],
   "source": [
    "line = sns.lineplot(data = df_2, x = 'order_dow',y = 'prices')"
   ]
  },
  {
   "cell_type": "code",
   "execution_count": 101,
   "id": "2e979f34-7bb1-4250-9ece-acd823701b83",
   "metadata": {},
   "outputs": [],
   "source": [
    "line.figure.savefig(os.path.join(path, '04 Analysis','Visualizations', 'line_order.png'))"
   ]
  },
  {
   "cell_type": "code",
   "execution_count": null,
   "id": "fcdce5ed-082d-4c2a-b9f6-889b0db13126",
   "metadata": {},
   "outputs": [],
   "source": []
  }
 ],
 "metadata": {
  "kernelspec": {
   "display_name": "Python [conda env:base] *",
   "language": "python",
   "name": "conda-base-py"
  },
  "language_info": {
   "codemirror_mode": {
    "name": "ipython",
    "version": 3
   },
   "file_extension": ".py",
   "mimetype": "text/x-python",
   "name": "python",
   "nbconvert_exporter": "python",
   "pygments_lexer": "ipython3",
   "version": "3.12.7"
  }
 },
 "nbformat": 4,
 "nbformat_minor": 5
}
